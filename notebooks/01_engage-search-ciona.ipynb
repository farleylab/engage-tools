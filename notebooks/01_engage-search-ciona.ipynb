{
 "cells": [
  {
   "cell_type": "markdown",
   "metadata": {},
   "source": [
    "# Basic Functionality of EnGAGE: Searching for Clusters of Motifs \n",
    "\n",
    "**Author:** Michelle Franc Ragsac (mragsac@eng.ucsd.edu)"
   ]
  },
  {
   "cell_type": "markdown",
   "metadata": {},
   "source": [
    "### Import Necessary Packages"
   ]
  },
  {
   "cell_type": "code",
   "execution_count": 1,
   "metadata": {},
   "outputs": [],
   "source": [
    "# Add a few lines for easy code updating ...\n",
    "%load_ext autoreload\n",
    "%autoreload 2\n",
    "\n",
    "import engage as en"
   ]
  },
  {
   "cell_type": "markdown",
   "metadata": {},
   "source": [
    "## Define Parameters for Genome Search\n",
    "\n",
    "Within the first code block featured below, we will be defining the genome that we would like to search by specifying the file path, as well as the binding information for the motifs that we are interested in studying. Within this example, we will be searching the *Ciona intestinalis* genome (i.e., the HT2019 assembly from the Ghost Database) for clusters of *Zic* and *ETS* binding sites. \n",
    "\n",
    "In defining our parameters, we use two object classes that are defined in `engage/search.py`, the `Cluster` and the `TF` classes: \n",
    "\n",
    "1. In Line 3, we define a `Cluster` object through `en.search.Cluster('Notochord-Grammar')` where the `str`, `\"Notochord-Grammar\"`, is the name of the grammar cluster that we are interested in searching for\n",
    "2. In Lines 6 through 12, we specify different *Zic* binding sites found in the literature before defining the `\"ZicL\"` `TF` object with the code in line 13, `en.search.TF('ZicL',ZicBinding)`\n",
    "3. Next, in Line 14, we add the *Zic* binding site `TF` object to our grammar's `Cluster` object \n",
    "4. Finally, we perform the same process for the *ETS* binding site in Lines 17 through 20, but instead specify that we would like to provide flexibility around the *ETS* binding site core as indicated through `N` characters \n",
    "\n",
    "We can then verify that we have the proper parameters in our `Cluster` object by printing its contents with `print()`! "
   ]
  },
  {
   "cell_type": "code",
   "execution_count": 2,
   "metadata": {},
   "outputs": [
    {
     "name": "stdout",
     "output_type": "stream",
     "text": [
      "[ Notochord-Grammar ] Cluster Parameters:\n",
      "====================================\n",
      "Window Size = 100\n",
      "Transcription Factors =\n",
      "* ZicL: 1x Sites\n",
      "- Motifs: ['CAGCTGTG|CACAGCTG|CCGCAGT|ACTGCGG|CCGCAGTC|GACTGCGG|CCCGCTGTG|CACAGCGGG|CCAGCTGTG|CACAGCTGG|CCGCTGTG|CACAGCGG|CCCGCAGTC|GACTGCGGG']\n",
      "* Ets: 2x Sites\n",
      "- Motifs: ['NNGGAANN|NNTTCCNN|NNGGATNN|NNATCCNN']\n",
      "\n"
     ]
    }
   ],
   "source": [
    "# Ciona intestinalis 2019 genome from GHOST\n",
    "filename = '../datasets/ciona_2019_HT-All.fasta'\n",
    "\n",
    "# Define search cluster\n",
    "cluster = en.search.Cluster('Notochord-Grammar')\n",
    "\n",
    "# Save regex pattern for Zic sites \n",
    "ZicBinding =  \"CAGCTGTG|CACAGCTG\"       # zic1/2/3 + zic1/2/3 reverse-complement \n",
    "ZicBinding += \"|CCGCAGT|ACTGCGG\"        # zic7/3/1 + zic7/3/1 reverse-complement\n",
    "ZicBinding += \"|CCGCAGTC|GACTGCGG\"      # zic6 + zic6 reverse-complement\n",
    "ZicBinding += \"|CCCGCTGTG|CACAGCGGG\"    # zic1 + zic1 reverse-complement\n",
    "ZicBinding += \"|CCAGCTGTG|CACAGCTGG\"    # zic3 + zic3 reverse-complement\n",
    "ZicBinding += \"|CCGCTGTG|CACAGCGG\"      # zic2/zicC + zic2/zicC reverse-complement\n",
    "ZicBinding += \"|CCCGCAGTC|GACTGCGGG\"    # zic5 + zic5 reverse-complement\n",
    "zic = en.search.TF('ZicL',ZicBinding)\n",
    "cluster.add_member(zic,1) \n",
    "\n",
    "# Save regex pattern for Ets sites \n",
    "EtsBinding =  \"NNGGAANN|NNTTCCNN\"   # common core motif + reverse-complement\n",
    "EtsBinding += \"|NNGGATNN|NNATCCNN\"  # slightly less common core motif + reverse-complement\n",
    "ets = en.search.TF('Ets',EtsBinding)\n",
    "cluster.add_member(ets,2)\n",
    "\n",
    "print(cluster) # verify cluster parameters"
   ]
  },
  {
   "cell_type": "markdown",
   "metadata": {},
   "source": [
    "## Search for the Notochord Grammar Cluster Using `en.search.find_motif_cluster()`"
   ]
  },
  {
   "cell_type": "code",
   "execution_count": 3,
   "metadata": {},
   "outputs": [
    {
     "name": "stderr",
     "output_type": "stream",
     "text": [
      "Processing Search Parameters: 100%|██████████| 2/2 [00:00<00:00, 2836.86it/s]\n",
      "Searching Chromosomes for Clusters: 100%|██████████| 67/67 [00:06<00:00, 10.20it/s]\n",
      "Consolidating Overlapping Regions: 100%|██████████| 67/67 [10:42<00:00,  9.59s/it] \n"
     ]
    },
    {
     "name": "stdout",
     "output_type": "stream",
     "text": [
      "There were 5246 cluster regions found!\n"
     ]
    }
   ],
   "source": [
    "df = en.search.find_motif_cluster(filename,cluster,num_processes=16) # default is 4 processes\n",
    "print(f\"There were {df.shape[0]} cluster regions found!\")"
   ]
  }
 ],
 "metadata": {
  "kernelspec": {
   "display_name": "Python 3.10.5 ('engage-tools')",
   "language": "python",
   "name": "python3"
  },
  "language_info": {
   "codemirror_mode": {
    "name": "ipython",
    "version": 3
   },
   "file_extension": ".py",
   "mimetype": "text/x-python",
   "name": "python",
   "nbconvert_exporter": "python",
   "pygments_lexer": "ipython3",
   "version": "3.10.5"
  },
  "orig_nbformat": 4,
  "vscode": {
   "interpreter": {
    "hash": "9aaee1a49508b53bb73f5e641a341120b32a88205b8a3c6be7e0bfd7794ea43d"
   }
  }
 },
 "nbformat": 4,
 "nbformat_minor": 2
}
