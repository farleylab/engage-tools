{
 "cells": [
  {
   "cell_type": "code",
   "execution_count": 1,
   "metadata": {},
   "outputs": [],
   "source": [
    "%load_ext autoreload\n",
    "%autoreload 2\n",
    "\n",
    "import engage as en"
   ]
  },
  {
   "cell_type": "code",
   "execution_count": 2,
   "metadata": {},
   "outputs": [
    {
     "name": "stdout",
     "output_type": "stream",
     "text": [
      "[ Notochord-Grammar ] Cluster Parameters:\n",
      "====================================\n",
      "Window Size = 100\n",
      "Transcription Factors =\n",
      "* ZicL: 1x Sites\n",
      "- Motifs: ['CAGCTGTG|CACAGCTG|CCGCAGT|ACTGCGG|CCGCAGTC|GACTGCGG|CCCGCTGTG|CACAGCGGG|CCAGCTGTG|CACAGCTGG|CCGCTGTG|CACAGCGG|CCCGCAGTC|GACTGCGGG']\n",
      "* Ets: 2x Sites\n",
      "- Motifs: ['NNGGAANN|NNTTCCNN|NNGGATNN|NNATCCNN']\n",
      "\n"
     ]
    }
   ],
   "source": [
    "filename = '../datasets/ciona_2019_HT-All.fasta'\n",
    "\n",
    "cluster = en.search.Cluster('Notochord-Grammar')\n",
    "\n",
    "# Save regex pattern for Zic sites \n",
    "ZicBinding =  \"CAGCTGTG|CACAGCTG\"       # zic1/2/3 + zic1/2/3 reverse-complement \n",
    "ZicBinding += \"|CCGCAGT|ACTGCGG\"        # zic7/3/1 + zic7/3/1 reverse-complement\n",
    "ZicBinding += \"|CCGCAGTC|GACTGCGG\"      # zic6 + zic6 reverse-complement\n",
    "ZicBinding += \"|CCCGCTGTG|CACAGCGGG\"    # zic1 + zic1 reverse-complement\n",
    "ZicBinding += \"|CCAGCTGTG|CACAGCTGG\"    # zic3 + zic3 reverse-complement\n",
    "ZicBinding += \"|CCGCTGTG|CACAGCGG\"      # zic2/zicC + zic2/zicC reverse-complement\n",
    "ZicBinding += \"|CCCGCAGTC|GACTGCGGG\"    # zic5 + zic5 reverse-complement\n",
    "zic = en.search.TF('ZicL',ZicBinding)\n",
    "cluster.add_member(zic,1) \n",
    "\n",
    "# Save regex pattern for Ets sites \n",
    "EtsBinding =  \"NNGGAANN|NNTTCCNN\"   # common core motif + reverse-complement\n",
    "EtsBinding += \"|NNGGATNN|NNATCCNN\"  # slightly less common core motif + reverse-complement\n",
    "ets = en.search.TF('Ets',EtsBinding)\n",
    "cluster.add_member(ets,2)\n",
    "\n",
    "print(cluster)"
   ]
  },
  {
   "cell_type": "code",
   "execution_count": 3,
   "metadata": {},
   "outputs": [
    {
     "name": "stderr",
     "output_type": "stream",
     "text": [
      "Processing Search Parameters: 100%|██████████| 2/2 [00:00<00:00, 3256.45it/s]\n",
      "Searching Chromosomes for Clusters: 100%|██████████| 67/67 [03:13<00:00,  2.89s/it]\n",
      "Consolidating Overlapping Regions:   1%|▏         | 1/67 [01:55<2:06:56, 115.40s/it]\n"
     ]
    },
    {
     "ename": "KeyboardInterrupt",
     "evalue": "",
     "output_type": "error",
     "traceback": [
      "\u001b[0;31m---------------------------------------------------------------------------\u001b[0m",
      "\u001b[0;31mKeyboardInterrupt\u001b[0m                         Traceback (most recent call last)",
      "\u001b[1;32m/Users/mragsac/Research/engage-tools/notebooks/01_engage-search-ciona.ipynb Cell 3\u001b[0m in \u001b[0;36m<cell line: 1>\u001b[0;34m()\u001b[0m\n\u001b[0;32m----> <a href='vscode-notebook-cell:/Users/mragsac/Research/engage-tools/notebooks/01_engage-search-ciona.ipynb#W2sZmlsZQ%3D%3D?line=0'>1</a>\u001b[0m en\u001b[39m.\u001b[39;49msearch\u001b[39m.\u001b[39;49mfind_motif_cluster(filename,cluster,num_processes\u001b[39m=\u001b[39;49m\u001b[39m8\u001b[39;49m)\n",
      "File \u001b[0;32m~/Research/engage-tools/engage/search.py:221\u001b[0m, in \u001b[0;36mfind_motif_cluster\u001b[0;34m(filename, cluster_parameters, minimum_flanking, exact_number, num_processes)\u001b[0m\n\u001b[1;32m    219\u001b[0m \u001b[39m# Evaluate the window for the motifs that are present and tally them\u001b[39;00m\n\u001b[1;32m    220\u001b[0m \u001b[39mfor\u001b[39;00m chromosome_index \u001b[39min\u001b[39;00m \u001b[39mrange\u001b[39m(chromosome_index_start,chromosome_index_end): \n\u001b[0;32m--> 221\u001b[0m     \u001b[39mfor\u001b[39;00m member \u001b[39min\u001b[39;00m chromosome_search_results[chromosome_index]: \n\u001b[1;32m    222\u001b[0m         \u001b[39m# Ensure that the beginning of the motif has some \u001b[39;00m\n\u001b[1;32m    223\u001b[0m         \u001b[39m# breathing room (set by minimum_flanking) at the start of \u001b[39;00m\n\u001b[1;32m    224\u001b[0m         \u001b[39m# the window, and that the end of the motif isn't outside\u001b[39;00m\n\u001b[1;32m    225\u001b[0m         \u001b[39mif\u001b[39;00m chromosome_search_results[chromosome_index][member][\u001b[39m0\u001b[39m] \u001b[39m<\u001b[39m \\\n\u001b[1;32m    226\u001b[0m             chromosome_index_start \u001b[39m+\u001b[39m minimum_flanking:\n\u001b[1;32m    227\u001b[0m             \u001b[39mcontinue\u001b[39;00m\n",
      "\u001b[0;31mKeyboardInterrupt\u001b[0m: "
     ]
    }
   ],
   "source": [
    "en.search.find_motif_cluster(filename,cluster,num_processes=8)"
   ]
  }
 ],
 "metadata": {
  "kernelspec": {
   "display_name": "Python 3.10.5 ('engage-tools')",
   "language": "python",
   "name": "python3"
  },
  "language_info": {
   "codemirror_mode": {
    "name": "ipython",
    "version": 3
   },
   "file_extension": ".py",
   "mimetype": "text/x-python",
   "name": "python",
   "nbconvert_exporter": "python",
   "pygments_lexer": "ipython3",
   "version": "3.10.5"
  },
  "orig_nbformat": 4,
  "vscode": {
   "interpreter": {
    "hash": "9aaee1a49508b53bb73f5e641a341120b32a88205b8a3c6be7e0bfd7794ea43d"
   }
  }
 },
 "nbformat": 4,
 "nbformat_minor": 2
}
